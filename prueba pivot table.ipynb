{
 "cells": [
  {
   "cell_type": "code",
   "execution_count": 1,
   "id": "e3375b76-09c5-40e1-bf63-65ef8cae170c",
   "metadata": {
    "tags": []
   },
   "outputs": [],
   "source": [
    "import numpy as np\n",
    "import pandas as pd\n",
    "import os\n",
    "import win32com.client as win32"
   ]
  },
  {
   "cell_type": "code",
   "execution_count": 2,
   "id": "a4e316df-8480-4359-a796-0e96c8e6ae89",
   "metadata": {},
   "outputs": [],
   "source": [
    "# https://www.youtube.com/watch?v=ZS4d3JvbQHQ"
   ]
  },
  {
   "cell_type": "code",
   "execution_count": 3,
   "id": "f799f541-3063-4116-bb43-1ed10dacb040",
   "metadata": {
    "tags": []
   },
   "outputs": [
    {
     "data": {
      "text/html": [
       "<div>\n",
       "<style scoped>\n",
       "    .dataframe tbody tr th:only-of-type {\n",
       "        vertical-align: middle;\n",
       "    }\n",
       "\n",
       "    .dataframe tbody tr th {\n",
       "        vertical-align: top;\n",
       "    }\n",
       "\n",
       "    .dataframe thead th {\n",
       "        text-align: right;\n",
       "    }\n",
       "</style>\n",
       "<table border=\"1\" class=\"dataframe\">\n",
       "  <thead>\n",
       "    <tr style=\"text-align: right;\">\n",
       "      <th></th>\n",
       "      <th>PassengerId</th>\n",
       "      <th>Survived</th>\n",
       "      <th>Pclass</th>\n",
       "      <th>Name</th>\n",
       "      <th>Sex</th>\n",
       "      <th>Age</th>\n",
       "      <th>SibSp</th>\n",
       "      <th>Parch</th>\n",
       "      <th>Ticket</th>\n",
       "      <th>Fare</th>\n",
       "      <th>Cabin</th>\n",
       "      <th>Embarked</th>\n",
       "    </tr>\n",
       "  </thead>\n",
       "  <tbody>\n",
       "    <tr>\n",
       "      <th>0</th>\n",
       "      <td>1</td>\n",
       "      <td>0</td>\n",
       "      <td>3</td>\n",
       "      <td>Braund, Mr. Owen Harris</td>\n",
       "      <td>male</td>\n",
       "      <td>22.0</td>\n",
       "      <td>1</td>\n",
       "      <td>0</td>\n",
       "      <td>A/5 21171</td>\n",
       "      <td>7.2500</td>\n",
       "      <td>NaN</td>\n",
       "      <td>S</td>\n",
       "    </tr>\n",
       "    <tr>\n",
       "      <th>1</th>\n",
       "      <td>2</td>\n",
       "      <td>1</td>\n",
       "      <td>1</td>\n",
       "      <td>Cumings, Mrs. John Bradley (Florence Briggs Th...</td>\n",
       "      <td>female</td>\n",
       "      <td>38.0</td>\n",
       "      <td>1</td>\n",
       "      <td>0</td>\n",
       "      <td>PC 17599</td>\n",
       "      <td>71.2833</td>\n",
       "      <td>C85</td>\n",
       "      <td>C</td>\n",
       "    </tr>\n",
       "    <tr>\n",
       "      <th>2</th>\n",
       "      <td>3</td>\n",
       "      <td>1</td>\n",
       "      <td>3</td>\n",
       "      <td>Heikkinen, Miss. Laina</td>\n",
       "      <td>female</td>\n",
       "      <td>26.0</td>\n",
       "      <td>0</td>\n",
       "      <td>0</td>\n",
       "      <td>STON/O2. 3101282</td>\n",
       "      <td>7.9250</td>\n",
       "      <td>NaN</td>\n",
       "      <td>S</td>\n",
       "    </tr>\n",
       "    <tr>\n",
       "      <th>3</th>\n",
       "      <td>4</td>\n",
       "      <td>1</td>\n",
       "      <td>1</td>\n",
       "      <td>Futrelle, Mrs. Jacques Heath (Lily May Peel)</td>\n",
       "      <td>female</td>\n",
       "      <td>35.0</td>\n",
       "      <td>1</td>\n",
       "      <td>0</td>\n",
       "      <td>113803</td>\n",
       "      <td>53.1000</td>\n",
       "      <td>C123</td>\n",
       "      <td>S</td>\n",
       "    </tr>\n",
       "    <tr>\n",
       "      <th>4</th>\n",
       "      <td>5</td>\n",
       "      <td>0</td>\n",
       "      <td>3</td>\n",
       "      <td>Allen, Mr. William Henry</td>\n",
       "      <td>male</td>\n",
       "      <td>35.0</td>\n",
       "      <td>0</td>\n",
       "      <td>0</td>\n",
       "      <td>373450</td>\n",
       "      <td>8.0500</td>\n",
       "      <td>NaN</td>\n",
       "      <td>S</td>\n",
       "    </tr>\n",
       "    <tr>\n",
       "      <th>...</th>\n",
       "      <td>...</td>\n",
       "      <td>...</td>\n",
       "      <td>...</td>\n",
       "      <td>...</td>\n",
       "      <td>...</td>\n",
       "      <td>...</td>\n",
       "      <td>...</td>\n",
       "      <td>...</td>\n",
       "      <td>...</td>\n",
       "      <td>...</td>\n",
       "      <td>...</td>\n",
       "      <td>...</td>\n",
       "    </tr>\n",
       "    <tr>\n",
       "      <th>886</th>\n",
       "      <td>887</td>\n",
       "      <td>0</td>\n",
       "      <td>2</td>\n",
       "      <td>Montvila, Rev. Juozas</td>\n",
       "      <td>male</td>\n",
       "      <td>27.0</td>\n",
       "      <td>0</td>\n",
       "      <td>0</td>\n",
       "      <td>211536</td>\n",
       "      <td>13.0000</td>\n",
       "      <td>NaN</td>\n",
       "      <td>S</td>\n",
       "    </tr>\n",
       "    <tr>\n",
       "      <th>887</th>\n",
       "      <td>888</td>\n",
       "      <td>1</td>\n",
       "      <td>1</td>\n",
       "      <td>Graham, Miss. Margaret Edith</td>\n",
       "      <td>female</td>\n",
       "      <td>19.0</td>\n",
       "      <td>0</td>\n",
       "      <td>0</td>\n",
       "      <td>112053</td>\n",
       "      <td>30.0000</td>\n",
       "      <td>B42</td>\n",
       "      <td>S</td>\n",
       "    </tr>\n",
       "    <tr>\n",
       "      <th>888</th>\n",
       "      <td>889</td>\n",
       "      <td>0</td>\n",
       "      <td>3</td>\n",
       "      <td>Johnston, Miss. Catherine Helen \"Carrie\"</td>\n",
       "      <td>female</td>\n",
       "      <td>NaN</td>\n",
       "      <td>1</td>\n",
       "      <td>2</td>\n",
       "      <td>W./C. 6607</td>\n",
       "      <td>23.4500</td>\n",
       "      <td>NaN</td>\n",
       "      <td>S</td>\n",
       "    </tr>\n",
       "    <tr>\n",
       "      <th>889</th>\n",
       "      <td>890</td>\n",
       "      <td>1</td>\n",
       "      <td>1</td>\n",
       "      <td>Behr, Mr. Karl Howell</td>\n",
       "      <td>male</td>\n",
       "      <td>26.0</td>\n",
       "      <td>0</td>\n",
       "      <td>0</td>\n",
       "      <td>111369</td>\n",
       "      <td>30.0000</td>\n",
       "      <td>C148</td>\n",
       "      <td>C</td>\n",
       "    </tr>\n",
       "    <tr>\n",
       "      <th>890</th>\n",
       "      <td>891</td>\n",
       "      <td>0</td>\n",
       "      <td>3</td>\n",
       "      <td>Dooley, Mr. Patrick</td>\n",
       "      <td>male</td>\n",
       "      <td>32.0</td>\n",
       "      <td>0</td>\n",
       "      <td>0</td>\n",
       "      <td>370376</td>\n",
       "      <td>7.7500</td>\n",
       "      <td>NaN</td>\n",
       "      <td>Q</td>\n",
       "    </tr>\n",
       "  </tbody>\n",
       "</table>\n",
       "<p>891 rows × 12 columns</p>\n",
       "</div>"
      ],
      "text/plain": [
       "     PassengerId  Survived  Pclass  \\\n",
       "0              1         0       3   \n",
       "1              2         1       1   \n",
       "2              3         1       3   \n",
       "3              4         1       1   \n",
       "4              5         0       3   \n",
       "..           ...       ...     ...   \n",
       "886          887         0       2   \n",
       "887          888         1       1   \n",
       "888          889         0       3   \n",
       "889          890         1       1   \n",
       "890          891         0       3   \n",
       "\n",
       "                                                  Name     Sex   Age  SibSp  \\\n",
       "0                              Braund, Mr. Owen Harris    male  22.0      1   \n",
       "1    Cumings, Mrs. John Bradley (Florence Briggs Th...  female  38.0      1   \n",
       "2                               Heikkinen, Miss. Laina  female  26.0      0   \n",
       "3         Futrelle, Mrs. Jacques Heath (Lily May Peel)  female  35.0      1   \n",
       "4                             Allen, Mr. William Henry    male  35.0      0   \n",
       "..                                                 ...     ...   ...    ...   \n",
       "886                              Montvila, Rev. Juozas    male  27.0      0   \n",
       "887                       Graham, Miss. Margaret Edith  female  19.0      0   \n",
       "888           Johnston, Miss. Catherine Helen \"Carrie\"  female   NaN      1   \n",
       "889                              Behr, Mr. Karl Howell    male  26.0      0   \n",
       "890                                Dooley, Mr. Patrick    male  32.0      0   \n",
       "\n",
       "     Parch            Ticket     Fare Cabin Embarked  \n",
       "0        0         A/5 21171   7.2500   NaN        S  \n",
       "1        0          PC 17599  71.2833   C85        C  \n",
       "2        0  STON/O2. 3101282   7.9250   NaN        S  \n",
       "3        0            113803  53.1000  C123        S  \n",
       "4        0            373450   8.0500   NaN        S  \n",
       "..     ...               ...      ...   ...      ...  \n",
       "886      0            211536  13.0000   NaN        S  \n",
       "887      0            112053  30.0000   B42        S  \n",
       "888      2        W./C. 6607  23.4500   NaN        S  \n",
       "889      0            111369  30.0000  C148        C  \n",
       "890      0            370376   7.7500   NaN        Q  \n",
       "\n",
       "[891 rows x 12 columns]"
      ]
     },
     "execution_count": 3,
     "metadata": {},
     "output_type": "execute_result"
    }
   ],
   "source": [
    "df = pd.read_csv(\"https://raw.githubusercontent.com/datasciencedojo/datasets/master/titanic.csv\")\n",
    "\n",
    "df"
   ]
  },
  {
   "cell_type": "code",
   "execution_count": 4,
   "id": "17e74a47-3d30-448b-a145-8b9685b5390f",
   "metadata": {
    "tags": []
   },
   "outputs": [],
   "source": [
    "df.to_excel('titanictest.xlsx', index = False)"
   ]
  },
  {
   "cell_type": "code",
   "execution_count": 5,
   "id": "e4841247-8a59-436d-b740-dba65f81e1d4",
   "metadata": {
    "tags": []
   },
   "outputs": [],
   "source": [
    "# Abrir el archivo de excel con la ruta completa\n",
    "ruta = r'C:\\Users\\José Dos Reis\\Documents\\bootcamp_clases\\titanictest.xlsx'\n",
    "excel = win32.Dispatch('Excel.Application')\n",
    "excel.Visible = False\n",
    "wb = excel.Workbooks.Open(ruta)"
   ]
  },
  {
   "cell_type": "code",
   "execution_count": 6,
   "id": "48fca053-51d6-4f84-8e22-528902d53c1b",
   "metadata": {
    "tags": []
   },
   "outputs": [],
   "source": [
    "#Seleccionar la hoja con los datos\n",
    "ws_data = wb.Sheets('Sheet1')\n",
    "\n",
    "#Agregar una nueva hoja para la tabla dinámica\n",
    "ws_pivot = wb.Sheets.Add()\n",
    "ws_pivot.Name = 'PivotTable'"
   ]
  },
  {
   "cell_type": "code",
   "execution_count": 7,
   "id": "f1ba3c4e-bec9-4e41-8dd9-bbe342e1a386",
   "metadata": {
    "tags": []
   },
   "outputs": [],
   "source": [
    "# Rango de datos\n",
    "start_cell = ws_data.Cells(1, 1)\n",
    "end_cell = ws_data.Cells(ws_data.UsedRange.Rows.Count, ws_data.UsedRange.Columns.Count)\n",
    "data_range = ws_data.Range(start_cell, end_cell)"
   ]
  },
  {
   "cell_type": "code",
   "execution_count": 8,
   "id": "7287c83a-67d5-4112-99a5-0d3d3f37615c",
   "metadata": {
    "tags": []
   },
   "outputs": [],
   "source": [
    "# Crear el cache de la tabla dinámica\n",
    "# pivot_cache = wb.PivotTableWizard(SourceType = 1, SourceData = data_range)\n",
    "\n",
    "pivot_cache = wb.PivotCaches().Create(SourceType=1, SourceData=data_range)"
   ]
  },
  {
   "cell_type": "code",
   "execution_count": 9,
   "id": "3b7d77a5-7bc9-4d46-839a-6fd8158698fd",
   "metadata": {
    "tags": []
   },
   "outputs": [],
   "source": [
    "# Crear la tabla dinámica\n",
    "pivot_table = pivot_cache.CreatePivotTable(TableDestination=ws_pivot.Cells(3, 3), TableName='PivotTable1')"
   ]
  },
  {
   "cell_type": "code",
   "execution_count": 10,
   "id": "52f335ed-4975-4324-8915-53fda432589e",
   "metadata": {
    "tags": []
   },
   "outputs": [],
   "source": [
    "# Orientation = 1 es para las filas https://www.youtube.com/watch?v=ZS4d3JvbQHQ\n",
    "pivot_table.PivotFields('Pclass').Orientation = 1\n",
    "pivot_table.PivotFields('Pclass').Position = 1"
   ]
  },
  {
   "cell_type": "code",
   "execution_count": 11,
   "id": "fc0fbcf5-1066-44c3-82bb-845bd934c303",
   "metadata": {
    "tags": []
   },
   "outputs": [],
   "source": [
    "pivot_table.PivotFields('Sex').Orientation = 1"
   ]
  },
  {
   "cell_type": "code",
   "execution_count": 12,
   "id": "860ae164-4f80-4ac4-9159-20a7adb5a328",
   "metadata": {
    "tags": []
   },
   "outputs": [],
   "source": [
    "# Esto es para hacerlo en formato tabular\n",
    "pivot_table.RowAxisLayout(1)"
   ]
  },
  {
   "cell_type": "code",
   "execution_count": 13,
   "id": "ff2dcb70-c4aa-47df-af8e-93ce124c3c6f",
   "metadata": {
    "tags": []
   },
   "outputs": [],
   "source": [
    "# Esto quita los totales de columna\n",
    "pivot_table.ColumnGrand = False"
   ]
  },
  {
   "cell_type": "code",
   "execution_count": 14,
   "id": "aa20971b-c296-48b3-9e33-a1091263a97a",
   "metadata": {
    "tags": []
   },
   "outputs": [],
   "source": [
    "#Esto quita los subtotales de la tabla dinámica el 12 se debe a que hay 12 tipos de subtotales segun la documentacion\n",
    "#https://learn.microsoft.com/en-us/office/vba/api/excel.pivotfield.subtotals\n",
    "pivot_table.PivotFields('Pclass').Subtotals = [False for _ in range(12)]"
   ]
  },
  {
   "cell_type": "code",
   "execution_count": 15,
   "id": "65e677f4-f149-4efa-866e-c4dcf8fe2dea",
   "metadata": {
    "tags": []
   },
   "outputs": [
    {
     "ename": "com_error",
     "evalue": "(-2147352567, 'Ocurrió una excepción.', (0, 'Microsoft Excel', 'No se puede asignar la propiedad Function de la clase PivotField.', 'xlmain11.chm', 0, -2146827284), None)",
     "output_type": "error",
     "traceback": [
      "\u001b[1;31m---------------------------------------------------------------------------\u001b[0m",
      "\u001b[1;31mcom_error\u001b[0m                                 Traceback (most recent call last)",
      "Cell \u001b[1;32mIn[15], line 2\u001b[0m\n\u001b[0;32m      1\u001b[0m pivot_table\u001b[38;5;241m.\u001b[39mPivotFields(\u001b[38;5;124m'\u001b[39m\u001b[38;5;124mFare\u001b[39m\u001b[38;5;124m'\u001b[39m)\u001b[38;5;241m.\u001b[39mOrientation \u001b[38;5;241m=\u001b[39m \u001b[38;5;241m4\u001b[39m \u001b[38;5;66;03m#Orientation 4 es para meterlo como valores\u001b[39;00m\n\u001b[1;32m----> 2\u001b[0m pivot_table\u001b[38;5;241m.\u001b[39mPivotFields(\u001b[38;5;124m'\u001b[39m\u001b[38;5;124mFare\u001b[39m\u001b[38;5;124m'\u001b[39m)\u001b[38;5;241m.\u001b[39mFunction \u001b[38;5;241m=\u001b[39m \u001b[38;5;241m-\u001b[39m\u001b[38;5;241m4139\u001b[39m\n",
      "File \u001b[1;32mC:\\ProgramData\\anaconda3\\Lib\\site-packages\\win32com\\client\\dynamic.py:686\u001b[0m, in \u001b[0;36mCDispatch.__setattr__\u001b[1;34m(self, attr, value)\u001b[0m\n\u001b[0;32m    682\u001b[0m         entry \u001b[38;5;241m=\u001b[39m \u001b[38;5;28mself\u001b[39m\u001b[38;5;241m.\u001b[39m_olerepr_\u001b[38;5;241m.\u001b[39mpropMapPut[attr]\n\u001b[0;32m    683\u001b[0m         invoke_type \u001b[38;5;241m=\u001b[39m _GetDescInvokeType(\n\u001b[0;32m    684\u001b[0m             entry, pythoncom\u001b[38;5;241m.\u001b[39mINVOKE_PROPERTYPUT\n\u001b[0;32m    685\u001b[0m         )\n\u001b[1;32m--> 686\u001b[0m         \u001b[38;5;28mself\u001b[39m\u001b[38;5;241m.\u001b[39m_oleobj_\u001b[38;5;241m.\u001b[39mInvoke(entry\u001b[38;5;241m.\u001b[39mdispid, \u001b[38;5;241m0\u001b[39m, invoke_type, \u001b[38;5;241m0\u001b[39m, value)\n\u001b[0;32m    687\u001b[0m         \u001b[38;5;28;01mreturn\u001b[39;00m\n\u001b[0;32m    688\u001b[0m \u001b[38;5;28;01mtry\u001b[39;00m:\n",
      "\u001b[1;31mcom_error\u001b[0m: (-2147352567, 'Ocurrió una excepción.', (0, 'Microsoft Excel', 'No se puede asignar la propiedad Function de la clase PivotField.', 'xlmain11.chm', 0, -2146827284), None)"
     ]
    }
   ],
   "source": [
    "pivot_table.PivotFields('Fare').Orientation = 4 #Orientation 4 es para meterlo como valores\n",
    "#pivot_table.PivotFields('Fare').Function = -4139"
   ]
  },
  {
   "cell_type": "code",
   "execution_count": 16,
   "id": "58f32f55-4725-430f-a2a3-5223b201b0a0",
   "metadata": {
    "tags": []
   },
   "outputs": [],
   "source": [
    "# Aquí agrego una variable a el field de data y luego lo parseo a su función según la documentacion https://learn.microsoft.com/en-us/office/vba/api/excel.xlconsolidationfunction\n",
    "\n",
    "values_field = pivot_table.AddDataField(pivot_table.PivotFields('Fare'))\n",
    "values_field.Function = -4106"
   ]
  },
  {
   "cell_type": "code",
   "execution_count": 17,
   "id": "27780199-a9ea-4dfd-b0d6-7146dc1bea55",
   "metadata": {
    "tags": []
   },
   "outputs": [],
   "source": [
    "wb.Save()\n",
    "wb.Close(SaveChanges=True)\n",
    "excel.Quit()"
   ]
  }
 ],
 "metadata": {
  "kernelspec": {
   "display_name": "Python 3 (ipykernel)",
   "language": "python",
   "name": "python3"
  },
  "language_info": {
   "codemirror_mode": {
    "name": "ipython",
    "version": 3
   },
   "file_extension": ".py",
   "mimetype": "text/x-python",
   "name": "python",
   "nbconvert_exporter": "python",
   "pygments_lexer": "ipython3",
   "version": "3.11.4"
  }
 },
 "nbformat": 4,
 "nbformat_minor": 5
}
